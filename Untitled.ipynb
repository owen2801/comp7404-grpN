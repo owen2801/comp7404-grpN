{
 "cells": [
  {
   "cell_type": "code",
   "execution_count": 5,
   "metadata": {},
   "outputs": [],
   "source": [
    "import numpy as np\n",
    "import math\n",
    "\n",
    "def unit_vector(vector):\n",
    "    \"\"\" Returns the unit vector of the vector.  \"\"\"\n",
    "    return vector / np.linalg.norm(vector)\n",
    "\n",
    "def angle_between(v1, v2):\n",
    "    \"\"\" Returns the angle in radians between vectors 'v1' and 'v2'::\n",
    "\n",
    "            >>> angle_between((1, 0, 0), (0, 1, 0))\n",
    "            1.5707963267948966\n",
    "            >>> angle_between((1, 0, 0), (1, 0, 0))\n",
    "            0.0\n",
    "            >>> angle_between((1, 0, 0), (-1, 0, 0))\n",
    "            3.141592653589793\n",
    "    \"\"\"\n",
    "    v1_u = unit_vector(v1)\n",
    "    v2_u = unit_vector(v2)\n",
    "    return np.arccos(np.clip(np.dot(v1_u, v2_u), -1.0, 1.0))"
   ]
  },
  {
   "cell_type": "code",
   "execution_count": 6,
   "metadata": {},
   "outputs": [],
   "source": [
    "# X-Z Plane, v2.Y must be zero\n",
    "v1 = [-9.8184, 0.009971, 0.29563]\n",
    "v2 = [-9.8184, 0, 0.29563]\n"
   ]
  },
  {
   "cell_type": "code",
   "execution_count": 7,
   "metadata": {},
   "outputs": [
    {
     "data": {
      "text/plain": [
       "0.0010150818663327487"
      ]
     },
     "execution_count": 7,
     "metadata": {},
     "output_type": "execute_result"
    }
   ],
   "source": [
    "angle_between(v1, v2)"
   ]
  },
  {
   "cell_type": "code",
   "execution_count": 10,
   "metadata": {
    "scrolled": true
   },
   "outputs": [
    {
     "data": {
      "text/plain": [
       "0.05815990680112927"
      ]
     },
     "execution_count": 10,
     "metadata": {},
     "output_type": "execute_result"
    }
   ],
   "source": [
    "math.degrees(angle_between(v1, v2))"
   ]
  },
  {
   "cell_type": "code",
   "execution_count": null,
   "metadata": {},
   "outputs": [],
   "source": []
  },
  {
   "cell_type": "code",
   "execution_count": 11,
   "metadata": {},
   "outputs": [],
   "source": [
    "# Y-Z Plane, v2.X must be zero\n",
    "v1 = [-9.8184, 0.009971, 0.29563]\n",
    "v2 = [0, 0.009971, 0.29563]\n"
   ]
  },
  {
   "cell_type": "code",
   "execution_count": 12,
   "metadata": {},
   "outputs": [
    {
     "data": {
      "text/plain": [
       "1.5406785214636516"
      ]
     },
     "execution_count": 12,
     "metadata": {},
     "output_type": "execute_result"
    }
   ],
   "source": [
    "angle_between(v1, v2)"
   ]
  },
  {
   "cell_type": "code",
   "execution_count": 13,
   "metadata": {
    "scrolled": true
   },
   "outputs": [
    {
     "data": {
      "text/plain": [
       "88.27437686632305"
      ]
     },
     "execution_count": 13,
     "metadata": {},
     "output_type": "execute_result"
    }
   ],
   "source": [
    "math.degrees(angle_between(v1, v2))"
   ]
  },
  {
   "cell_type": "code",
   "execution_count": 14,
   "metadata": {},
   "outputs": [],
   "source": [
    "x = -9.8184\n",
    "y = 0.009971\n",
    "z = 0.29563"
   ]
  },
  {
   "cell_type": "code",
   "execution_count": 22,
   "metadata": {},
   "outputs": [],
   "source": [
    "# X-Z Plane, v2.Y must be zero\n",
    "v1 = [x, y, z]\n",
    "v2 = [x, 0, z]\n"
   ]
  },
  {
   "cell_type": "code",
   "execution_count": 23,
   "metadata": {},
   "outputs": [],
   "source": [
    "\n",
    "if y >= 0 and z >= 0:\n",
    "    thetaXZ = math.degrees(angle_between(v1, v2))\n",
    "elif y >= 0 and z <= 0:\n",
    "    thetaXZ = 180 - math.degrees(angle_between(v1, v2))   \n",
    "elif y <= 0 and z <= 0:\n",
    "    thetaXZ = 180 + math.degrees(angle_between(v1, v2))\n",
    "elif y <= 0 and z >= 0:\n",
    "    thetaXZ = 360 - math.degrees(angle_between(v1, v2))\n",
    "\n"
   ]
  },
  {
   "cell_type": "code",
   "execution_count": 24,
   "metadata": {
    "scrolled": true
   },
   "outputs": [
    {
     "data": {
      "text/plain": [
       "0.05815990680112927"
      ]
     },
     "execution_count": 24,
     "metadata": {},
     "output_type": "execute_result"
    }
   ],
   "source": [
    "thetaXZ"
   ]
  },
  {
   "cell_type": "code",
   "execution_count": 15,
   "metadata": {},
   "outputs": [],
   "source": [
    "# Y-Z Plane, v2.X must be zero\n",
    "v1 = [x, y, z]\n",
    "v2 = [0, y, z]\n"
   ]
  },
  {
   "cell_type": "code",
   "execution_count": 19,
   "metadata": {},
   "outputs": [],
   "source": [
    "\n",
    "if x >= 0 and z >= 0:\n",
    "    thetaYZ = math.degrees(angle_between(v1, v2))\n",
    "elif x >= 0 and z <= 0:\n",
    "    thetaYZ = 180 - math.degrees(angle_between(v1, v2))   \n",
    "elif x <= 0 and z <= 0:\n",
    "    thetaYZ = 180 + math.degrees(angle_between(v1, v2))\n",
    "elif x <= 0 and z >= 0:\n",
    "    thetaYZ = 360 - math.degrees(angle_between(v1, v2))\n",
    "\n"
   ]
  },
  {
   "cell_type": "code",
   "execution_count": 20,
   "metadata": {
    "scrolled": true
   },
   "outputs": [
    {
     "data": {
      "text/plain": [
       "271.72562313367695"
      ]
     },
     "execution_count": 20,
     "metadata": {},
     "output_type": "execute_result"
    }
   ],
   "source": [
    "thetaYZ"
   ]
  },
  {
   "cell_type": "code",
   "execution_count": 25,
   "metadata": {},
   "outputs": [],
   "source": [
    "def convertToAngles(x, y, z):\n",
    "    # X-Z Plane, v2.Y must be zero\n",
    "    v1 = [x, y, z]\n",
    "    v2 = [x, 0, z]\n",
    "\n",
    "    if y >= 0 and z >= 0:\n",
    "        thetaXZ = math.degrees(angle_between(v1, v2))\n",
    "    elif y >= 0 and z <= 0:\n",
    "        thetaXZ = 180 - math.degrees(angle_between(v1, v2))   \n",
    "    elif y <= 0 and z <= 0:\n",
    "        thetaXZ = 180 + math.degrees(angle_between(v1, v2))\n",
    "    elif y <= 0 and z >= 0:\n",
    "        thetaXZ = 360 - math.degrees(angle_between(v1, v2))\n",
    "\n",
    "        \n",
    "    # Y-Z Plane, v2.X must be zero\n",
    "    v1 = [x, y, z]\n",
    "    v2 = [0, y, z]\n",
    "    \n",
    "    if x >= 0 and z >= 0:\n",
    "        thetaYZ = math.degrees(angle_between(v1, v2))\n",
    "    elif x >= 0 and z <= 0:\n",
    "        thetaYZ = 180 - math.degrees(angle_between(v1, v2))   \n",
    "    elif x <= 0 and z <= 0:\n",
    "        thetaYZ = 180 + math.degrees(angle_between(v1, v2))\n",
    "    elif x <= 0 and z >= 0:\n",
    "        thetaYZ = 360 - math.degrees(angle_between(v1, v2))\n",
    "\n",
    "    return thetaXZ, thetaYZ"
   ]
  },
  {
   "cell_type": "code",
   "execution_count": 27,
   "metadata": {},
   "outputs": [],
   "source": [
    "x = -9.8184\n",
    "y = 0.009971\n",
    "z = 0.29563"
   ]
  },
  {
   "cell_type": "code",
   "execution_count": 28,
   "metadata": {},
   "outputs": [],
   "source": [
    "thetaXZ, thetaYZ = convertToAngles(x, y, z)"
   ]
  },
  {
   "cell_type": "code",
   "execution_count": 29,
   "metadata": {},
   "outputs": [
    {
     "data": {
      "text/plain": [
       "0.05815990680112927"
      ]
     },
     "execution_count": 29,
     "metadata": {},
     "output_type": "execute_result"
    }
   ],
   "source": [
    "thetaXZ"
   ]
  },
  {
   "cell_type": "code",
   "execution_count": 30,
   "metadata": {},
   "outputs": [
    {
     "data": {
      "text/plain": [
       "271.72562313367695"
      ]
     },
     "execution_count": 30,
     "metadata": {},
     "output_type": "execute_result"
    }
   ],
   "source": [
    "thetaYZ"
   ]
  },
  {
   "cell_type": "code",
   "execution_count": null,
   "metadata": {},
   "outputs": [],
   "source": []
  }
 ],
 "metadata": {
  "kernelspec": {
   "display_name": "Python 3",
   "language": "python",
   "name": "python3"
  },
  "language_info": {
   "codemirror_mode": {
    "name": "ipython",
    "version": 3
   },
   "file_extension": ".py",
   "mimetype": "text/x-python",
   "name": "python",
   "nbconvert_exporter": "python",
   "pygments_lexer": "ipython3",
   "version": "3.5.4"
  }
 },
 "nbformat": 4,
 "nbformat_minor": 2
}
