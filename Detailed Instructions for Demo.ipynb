{
 "cells": [
  {
   "cell_type": "markdown",
   "metadata": {},
   "source": [
    "# Detailed Instructions - Preparations need to be done before running demo\n",
    "\n",
    "#### 1. download GroupProject_GroupN.zip from GitHub and unzip it\n",
    "\n",
    "#### 2. go to the link below and download MHEALTHDATASET.zip\n",
    "#### http://archive.ics.uci.edu/ml/machine-learning-databases/00319/\n",
    "\n",
    "#### 3. unzip  MHEALTHDATASET.zip, then copy all 10 data files (mHealth_subjectX.log where X from 1 to 10) to the folder \"GroupProject_GroupN\"\n",
    "\n",
    "#### 4. make sure packages including numpy, scipy, fastdtw, collections, plyfile, mpl_toolkits.mplot3d, matplotlib and sklearn are installed\n",
    "\n",
    "#### 5. Python 3.6 is used\n",
    "\n",
    "#### 6. go to GroupProject_GroupN folder and open jupyter notebook named \"Wearable Devices using Dynamic Time Wraping.ipynb\" to run the demo\n"
   ]
  },
  {
   "cell_type": "code",
   "execution_count": null,
   "metadata": {},
   "outputs": [],
   "source": []
  }
 ],
 "metadata": {
  "kernelspec": {
   "display_name": "Python 3",
   "language": "python",
   "name": "python3"
  },
  "language_info": {
   "codemirror_mode": {
    "name": "ipython",
    "version": 3
   },
   "file_extension": ".py",
   "mimetype": "text/x-python",
   "name": "python",
   "nbconvert_exporter": "python",
   "pygments_lexer": "ipython3",
   "version": "3.6.4"
  }
 },
 "nbformat": 4,
 "nbformat_minor": 2
}
